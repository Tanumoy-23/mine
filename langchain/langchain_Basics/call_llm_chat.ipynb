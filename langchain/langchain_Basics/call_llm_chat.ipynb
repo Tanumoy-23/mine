{
 "cells": [
  {
   "cell_type": "code",
   "execution_count": 2,
   "id": "c7f49939",
   "metadata": {},
   "outputs": [
    {
     "data": {
      "text/plain": [
       "True"
      ]
     },
     "execution_count": 2,
     "metadata": {},
     "output_type": "execute_result"
    }
   ],
   "source": [
    "import os\n",
    "from dotenv import load_dotenv\n",
    "load_dotenv()"
   ]
  },
  {
   "cell_type": "code",
   "execution_count": 3,
   "id": "dd4040cb",
   "metadata": {},
   "outputs": [],
   "source": [
    "os.environ[\"OPENAI_API_KEY\"]=os.getenv(\"OPENAI_API_KEY\")\n",
    "\n",
    "## Langsmith Tracking and tracing\n",
    "\n",
    "os.environ[\"LANGCHAIN_API_KEY\"]=os.getenv(\"LANGCHAIN_API_KEY\")\n",
    "os.environ[\"LANGCHAIN_TRACING_V2\"]=\"true\"\n",
    "os.environ[\"LANGCHAIN_PROJECT\"]=os.getenv(\"LANGCHAIN_PROJECT\")"
   ]
  },
  {
   "cell_type": "code",
   "execution_count": null,
   "id": "cf8819ca",
   "metadata": {},
   "outputs": [
    {
     "name": "stdout",
     "output_type": "stream",
     "text": [
      "client=<openai.resources.chat.completions.completions.Completions object at 0x000002286CCAE660> async_client=<openai.resources.chat.completions.completions.AsyncCompletions object at 0x000002286CCD8A10> root_client=<openai.OpenAI object at 0x000002286CACB800> root_async_client=<openai.AsyncOpenAI object at 0x000002286CCAE690> model_name='o1-mini' temperature=1.0 model_kwargs={} openai_api_key=SecretStr('**********')\n"
     ]
    }
   ],
   "source": [
    "from langchain_openai import ChatOpenAI\n",
    "\n",
    "llm=ChatOpenAI(model=\"o1-mini\") # Loading the model in my context\n",
    "print(llm)"
   ]
  },
  {
   "cell_type": "code",
   "execution_count": 6,
   "id": "ecadff0b",
   "metadata": {},
   "outputs": [
    {
     "name": "stderr",
     "output_type": "stream",
     "text": [
      "Failed to multipart ingest runs: langsmith.utils.LangSmithError: Failed to POST https://api.smith.langchain.com/runs/multipart in LangSmith API. HTTPError('403 Client Error: Forbidden for url: https://api.smith.langchain.com/runs/multipart', '{\"error\":\"Forbidden\"}\\n')\n"
     ]
    },
    {
     "name": "stdout",
     "output_type": "stream",
     "text": [
      "content=\"**Agentic AI** refers to artificial intelligence systems designed with agency—the capacity to act autonomously, make decisions, and pursue goals without constant human oversight. These AI agents can perceive their environment, interpret data, make informed choices, and execute actions to achieve specific objectives. The concept of agency in AI emphasizes independence, adaptability, and purposeful behavior, allowing AI systems to operate effectively in dynamic and complex environments.\\n\\n### Key Characteristics of Agentic AI\\n\\n1. **Autonomy:** Agentic AI systems can operate independently, making decisions without needing real-time human intervention.\\n\\n2. **Perception:** They are equipped with sensors or data inputs that allow them to understand and interpret their environment or the data they process.\\n\\n3. **Decision-Making:** These AI agents can analyze information, assess options, and choose actions based on predefined goals or learned objectives.\\n\\n4. **Goal-Oriented Behavior:** They are designed to achieve specific outcomes, whether it's optimizing a process, completing a task, or adapting to changes.\\n\\n5. **Learning and Adaptation:** Agentic AI often incorporates machine learning, enabling it to improve its performance over time through experience.\\n\\n### Examples of Agentic AI\\n\\n- **Autonomous Vehicles:** Self-driving cars navigate roads, make decisions in real-time based on traffic conditions, and handle unexpected situations without human input.\\n\\n- **Robotic Process Automation (RPA):** Software robots that automate repetitive tasks in business processes, adjusting their actions based on the data they encounter.\\n\\n- **Virtual Assistants:** Advanced AI like Siri, Alexa, or Google Assistant that can perform tasks, manage schedules, and interact with other smart devices autonomously.\\n\\n- **Drones:** Unmanned aerial vehicles that can execute missions such as surveillance, delivery, or environmental monitoring without direct human control.\\n\\n### Implications of Agentic AI\\n\\n1. **Efficiency and Productivity:** By automating complex tasks and making real-time decisions, agentic AI can significantly enhance efficiency across various industries.\\n\\n2. **Ethical Considerations:** As AI systems gain more autonomy, questions arise regarding accountability, decision-making transparency, and the ethical frameworks guiding their actions.\\n\\n3. **Job Displacement and Creation:** While agentic AI can automate certain roles, it also creates opportunities for new types of jobs that focus on managing, programming, and maintaining AI systems.\\n\\n4. **Security and Control:** Ensuring that agentic AI systems operate safely and are resistant to manipulation or malicious use is a critical concern.\\n\\n5. **Societal Impact:** The widespread adoption of agentic AI can influence societal structures, communication, and the way humans interact with technology.\\n\\n### Challenges in Developing Agentic AI\\n\\n- **Complexity of Real-World Environments:** Designing AI that can handle the unpredictability and variability of real-world scenarios is inherently challenging.\\n\\n- **Ethical Programming:** Embedding ethical decision-making into AI systems to ensure their actions align with human values and societal norms.\\n\\n- **Robustness and Reliability:** Ensuring AI agents perform consistently and reliably, even in the face of unexpected inputs or conditions.\\n\\n- **Human-AI Collaboration:** Creating harmonious interactions between humans and autonomous AI systems to leverage the strengths of both.\\n\\n### Future of Agentic AI\\n\\nThe development of agentic AI is progressing rapidly, with advancements in machine learning, robotics, and cognitive computing driving more sophisticated autonomous systems. Future trends may include:\\n\\n- **Enhanced Human-AI Interaction:** More seamless and intuitive interfaces for collaboration between humans and AI agents.\\n\\n- **Personalized AI Agents:** AI systems tailored to individual preferences and needs, offering customized assistance and decision-making support.\\n\\n- **Integration Across Sectors:** Broader application of agentic AI in healthcare, finance, transportation, education, and other critical industries.\\n\\n- **Regulatory Frameworks:** Establishing guidelines and standards to govern the development and deployment of agentic AI, ensuring safety, fairness, and accountability.\\n\\n### Conclusion\\n\\nAgentic AI represents a significant step toward creating intelligent systems capable of autonomous action and decision-making. While offering numerous benefits in efficiency, innovation, and problem-solving, it also poses challenges that require careful consideration, particularly in ethics, security, and societal impact. As technology continues to evolve, the responsible development and integration of agentic AI will be crucial in harnessing its potential while mitigating risks.\" additional_kwargs={'refusal': None} response_metadata={'token_usage': {'completion_tokens': 1000, 'prompt_tokens': 13, 'total_tokens': 1013, 'completion_tokens_details': {'accepted_prediction_tokens': 0, 'audio_tokens': 0, 'reasoning_tokens': 128, 'rejected_prediction_tokens': 0}, 'prompt_tokens_details': {'audio_tokens': 0, 'cached_tokens': 0}}, 'model_name': 'o1-mini-2024-09-12', 'system_fingerprint': 'fp_75b1d33e66', 'id': 'chatcmpl-BRwcDoyTcJdxezlinHm1lTGDWReml', 'finish_reason': 'stop', 'logprobs': None} id='run-3faa880a-442f-4afc-94d4-51313147ba64-0' usage_metadata={'input_tokens': 13, 'output_tokens': 1000, 'total_tokens': 1013, 'input_token_details': {'audio': 0, 'cache_read': 0}, 'output_token_details': {'audio': 0, 'reasoning': 128}}\n"
     ]
    },
    {
     "name": "stderr",
     "output_type": "stream",
     "text": [
      "Failed to multipart ingest runs: langsmith.utils.LangSmithError: Failed to POST https://api.smith.langchain.com/runs/multipart in LangSmith API. HTTPError('403 Client Error: Forbidden for url: https://api.smith.langchain.com/runs/multipart', '{\"error\":\"Forbidden\"}\\n')\n"
     ]
    }
   ],
   "source": [
    "result=llm.invoke(\"What is agentic AI\")\n",
    "print(result)"
   ]
  },
  {
   "cell_type": "code",
   "execution_count": 7,
   "id": "27d681b2",
   "metadata": {},
   "outputs": [
    {
     "name": "stdout",
     "output_type": "stream",
     "text": [
      "**Agentic AI** refers to artificial intelligence systems designed with agency—the capacity to act autonomously, make decisions, and pursue goals without constant human oversight. These AI agents can perceive their environment, interpret data, make informed choices, and execute actions to achieve specific objectives. The concept of agency in AI emphasizes independence, adaptability, and purposeful behavior, allowing AI systems to operate effectively in dynamic and complex environments.\n",
      "\n",
      "### Key Characteristics of Agentic AI\n",
      "\n",
      "1. **Autonomy:** Agentic AI systems can operate independently, making decisions without needing real-time human intervention.\n",
      "\n",
      "2. **Perception:** They are equipped with sensors or data inputs that allow them to understand and interpret their environment or the data they process.\n",
      "\n",
      "3. **Decision-Making:** These AI agents can analyze information, assess options, and choose actions based on predefined goals or learned objectives.\n",
      "\n",
      "4. **Goal-Oriented Behavior:** They are designed to achieve specific outcomes, whether it's optimizing a process, completing a task, or adapting to changes.\n",
      "\n",
      "5. **Learning and Adaptation:** Agentic AI often incorporates machine learning, enabling it to improve its performance over time through experience.\n",
      "\n",
      "### Examples of Agentic AI\n",
      "\n",
      "- **Autonomous Vehicles:** Self-driving cars navigate roads, make decisions in real-time based on traffic conditions, and handle unexpected situations without human input.\n",
      "\n",
      "- **Robotic Process Automation (RPA):** Software robots that automate repetitive tasks in business processes, adjusting their actions based on the data they encounter.\n",
      "\n",
      "- **Virtual Assistants:** Advanced AI like Siri, Alexa, or Google Assistant that can perform tasks, manage schedules, and interact with other smart devices autonomously.\n",
      "\n",
      "- **Drones:** Unmanned aerial vehicles that can execute missions such as surveillance, delivery, or environmental monitoring without direct human control.\n",
      "\n",
      "### Implications of Agentic AI\n",
      "\n",
      "1. **Efficiency and Productivity:** By automating complex tasks and making real-time decisions, agentic AI can significantly enhance efficiency across various industries.\n",
      "\n",
      "2. **Ethical Considerations:** As AI systems gain more autonomy, questions arise regarding accountability, decision-making transparency, and the ethical frameworks guiding their actions.\n",
      "\n",
      "3. **Job Displacement and Creation:** While agentic AI can automate certain roles, it also creates opportunities for new types of jobs that focus on managing, programming, and maintaining AI systems.\n",
      "\n",
      "4. **Security and Control:** Ensuring that agentic AI systems operate safely and are resistant to manipulation or malicious use is a critical concern.\n",
      "\n",
      "5. **Societal Impact:** The widespread adoption of agentic AI can influence societal structures, communication, and the way humans interact with technology.\n",
      "\n",
      "### Challenges in Developing Agentic AI\n",
      "\n",
      "- **Complexity of Real-World Environments:** Designing AI that can handle the unpredictability and variability of real-world scenarios is inherently challenging.\n",
      "\n",
      "- **Ethical Programming:** Embedding ethical decision-making into AI systems to ensure their actions align with human values and societal norms.\n",
      "\n",
      "- **Robustness and Reliability:** Ensuring AI agents perform consistently and reliably, even in the face of unexpected inputs or conditions.\n",
      "\n",
      "- **Human-AI Collaboration:** Creating harmonious interactions between humans and autonomous AI systems to leverage the strengths of both.\n",
      "\n",
      "### Future of Agentic AI\n",
      "\n",
      "The development of agentic AI is progressing rapidly, with advancements in machine learning, robotics, and cognitive computing driving more sophisticated autonomous systems. Future trends may include:\n",
      "\n",
      "- **Enhanced Human-AI Interaction:** More seamless and intuitive interfaces for collaboration between humans and AI agents.\n",
      "\n",
      "- **Personalized AI Agents:** AI systems tailored to individual preferences and needs, offering customized assistance and decision-making support.\n",
      "\n",
      "- **Integration Across Sectors:** Broader application of agentic AI in healthcare, finance, transportation, education, and other critical industries.\n",
      "\n",
      "- **Regulatory Frameworks:** Establishing guidelines and standards to govern the development and deployment of agentic AI, ensuring safety, fairness, and accountability.\n",
      "\n",
      "### Conclusion\n",
      "\n",
      "Agentic AI represents a significant step toward creating intelligent systems capable of autonomous action and decision-making. While offering numerous benefits in efficiency, innovation, and problem-solving, it also poses challenges that require careful consideration, particularly in ethics, security, and societal impact. As technology continues to evolve, the responsible development and integration of agentic AI will be crucial in harnessing its potential while mitigating risks.\n"
     ]
    }
   ],
   "source": [
    "print(result.content)"
   ]
  }
 ],
 "metadata": {
  "kernelspec": {
   "display_name": "base",
   "language": "python",
   "name": "python3"
  },
  "language_info": {
   "codemirror_mode": {
    "name": "ipython",
    "version": 3
   },
   "file_extension": ".py",
   "mimetype": "text/x-python",
   "name": "python",
   "nbconvert_exporter": "python",
   "pygments_lexer": "ipython3",
   "version": "3.12.7"
  }
 },
 "nbformat": 4,
 "nbformat_minor": 5
}
