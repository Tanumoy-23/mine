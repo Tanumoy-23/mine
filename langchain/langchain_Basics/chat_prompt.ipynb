{
 "cells": [
  {
   "cell_type": "code",
   "execution_count": null,
   "id": "6e13c83e",
   "metadata": {},
   "outputs": [],
   "source": [
    "import os\n",
    "from dotenv import load_dotenv\n",
    "load_dotenv()\n",
    "\n",
    "os.environ[\"OPENAI_API_KEY\"]=os.getenv(\"OPENAI_API_KEY\")\n",
    "\n",
    "## Langsmith Tracking and tracing\n",
    "os.environ[\"LANGCHAIN_API_KEY\"]=os.getenv(\"LANGCHAIN_API_KEY\")\n",
    "os.environ[\"LANGCHAIN_TRACING_V2\"]=\"true\"\n",
    "os.environ[\"LANGCHAIN_PROJECT\"]=os.getenv(\"LANGCHAIN_PROJECT\")"
   ]
  },
  {
   "cell_type": "code",
   "execution_count": null,
   "id": "c6990b62",
   "metadata": {},
   "outputs": [
    {
     "data": {
      "text/plain": [
       "ChatPromptTemplate(input_variables=['input'], input_types={}, partial_variables={}, messages=[SystemMessagePromptTemplate(prompt=PromptTemplate(input_variables=[], input_types={}, partial_variables={}, template='You are an expert cricket player. Provide me answer based on the question'), additional_kwargs={}), HumanMessagePromptTemplate(prompt=PromptTemplate(input_variables=['input'], input_types={}, partial_variables={}, template='{input}'), additional_kwargs={})])"
      ]
     },
     "execution_count": 9,
     "metadata": {},
     "output_type": "execute_result"
    }
   ],
   "source": [
    "from langchain_core.prompts import ChatPromptTemplate\n",
    "\n",
    "#Prompt is just to set the contexty and llm will aanswer based on that context\n",
    "\n",
    "prompt=ChatPromptTemplate.from_messages(\n",
    "    [\n",
    "        (\"system\",\"You are an expert AI Engineer. Provide me answer based on the question\"),\n",
    "        (\"user\",\"{input}\")\n",
    "\n",
    "    ]\n",
    ")\n",
    "prompt"
   ]
  },
  {
   "cell_type": "code",
   "execution_count": 5,
   "id": "987b70f0",
   "metadata": {},
   "outputs": [],
   "source": [
    "from langchain_openai import ChatOpenAI\n",
    "llm=ChatOpenAI(model=\"gpt-4o\")"
   ]
  },
  {
   "cell_type": "code",
   "execution_count": null,
   "id": "e83769f5",
   "metadata": {},
   "outputs": [
    {
     "name": "stderr",
     "output_type": "stream",
     "text": [
      "Failed to multipart ingest runs: langsmith.utils.LangSmithError: Failed to POST https://api.smith.langchain.com/runs/multipart in LangSmith API. HTTPError('403 Client Error: Forbidden for url: https://api.smith.langchain.com/runs/multipart', '{\"error\":\"Forbidden\"}\\n')\n"
     ]
    },
    {
     "name": "stdout",
     "output_type": "stream",
     "text": [
      "I'm not familiar with \"Langsmith\" as it may relate to cricket, or it might be a term, individual, or entity outside of broadly known cricket context up to October 2023. If Langsmith is a recent development or a term specific to a niche or new context, it might not be within my training data. Could you provide more details or specify what context Langsmith refers to, so I can assist you better?\n"
     ]
    },
    {
     "data": {
      "text/plain": [
       "str"
      ]
     },
     "execution_count": 11,
     "metadata": {},
     "output_type": "execute_result"
    },
    {
     "name": "stderr",
     "output_type": "stream",
     "text": [
      "Failed to multipart ingest runs: langsmith.utils.LangSmithError: Failed to POST https://api.smith.langchain.com/runs/multipart in LangSmith API. HTTPError('403 Client Error: Forbidden for url: https://api.smith.langchain.com/runs/multipart', '{\"error\":\"Forbidden\"}\\n')\n"
     ]
    }
   ],
   "source": [
    "chain=prompt|llm \n",
    "\n",
    "response=chain.invoke({\"input\":\"Can you tell me about Langsmith\"})\n",
    "print(response.content)\n",
    "\n",
    "type(response.content) # This returns str. There is a risk. Is response object gets changed then this will fail."
   ]
  },
  {
   "cell_type": "code",
   "execution_count": null,
   "id": "61b41602",
   "metadata": {},
   "outputs": [
    {
     "name": "stderr",
     "output_type": "stream",
     "text": [
      "Failed to multipart ingest runs: langsmith.utils.LangSmithError: Failed to POST https://api.smith.langchain.com/runs/multipart in LangSmith API. HTTPError('403 Client Error: Forbidden for url: https://api.smith.langchain.com/runs/multipart', '{\"error\":\"Forbidden\"}\\n')\n"
     ]
    },
    {
     "name": "stdout",
     "output_type": "stream",
     "text": [
      "Langsmith is not a term directly related to cricket, so it seems like it might be an entity or concept outside the realm of the sport, or possibly a name or brand. If you're referring to something specific in cricket or if it's a new development after October 2023, I wouldn't have information about it. For the most accurate information, checking the latest resources or context about Langsmith might be helpful. If you have more context or details, I’d be glad to help further!\n"
     ]
    },
    {
     "name": "stderr",
     "output_type": "stream",
     "text": [
      "Failed to multipart ingest runs: langsmith.utils.LangSmithError: Failed to POST https://api.smith.langchain.com/runs/multipart in LangSmith API. HTTPError('403 Client Error: Forbidden for url: https://api.smith.langchain.com/runs/multipart', '{\"error\":\"Forbidden\"}\\n')\n"
     ]
    }
   ],
   "source": [
    "from langchain_core.output_parsers import StrOutputParser\n",
    "output_parser=StrOutputParser() # Standard way to extract the content. \n",
    "\n",
    "chain=prompt|llm|output_parser\n",
    "\n",
    "response=chain.invoke({\"input\":\"Can you tell me about Langsmith?\"})\n",
    "print(response)"
   ]
  },
  {
   "cell_type": "code",
   "execution_count": 29,
   "id": "8b2382e0",
   "metadata": {},
   "outputs": [],
   "source": [
    "from langchain_core.prompts import PromptTemplate\n",
    "from langchain_core.output_parsers import JsonOutputParser\n",
    "\n",
    "# JSON OutputParser - if somebody wants response in JSON\n",
    "\n",
    "json_output_parser=JsonOutputParser()\n",
    "prompt = PromptTemplate(\n",
    "    template=\"Answer the user query.\\n{format_instructions}\\n{query}\\n\",  # Trying to say, hey answer my query in JSON format\n",
    "    input_variables=[\"query\"],\n",
    "    partial_variables={\"format_instructions\": json_output_parser.get_format_instructions()},\n",
    ")"
   ]
  },
  {
   "cell_type": "code",
   "execution_count": 35,
   "id": "664ed9ba",
   "metadata": {},
   "outputs": [
    {
     "name": "stderr",
     "output_type": "stream",
     "text": [
      "Failed to multipart ingest runs: langsmith.utils.LangSmithError: Failed to POST https://api.smith.langchain.com/runs/multipart in LangSmith API. HTTPError('403 Client Error: Forbidden for url: https://api.smith.langchain.com/runs/multipart', '{\"error\":\"Forbidden\"}\\n')\n"
     ]
    },
    {
     "name": "stdout",
     "output_type": "stream",
     "text": [
      "{'Langsmith': {'description': 'Langsmith is a language learning platform that offers courses in various languages to help individuals improve their language skills.', 'features': ['Interactive lessons', 'Personalized learning plans', 'Native-speaking instructors', 'Practice exercises and quizzes', 'Progress tracking', 'Community forums for language practice'], 'benefits': ['Improved language skills', 'Flexibility to learn at your own pace', 'Access to native-speaking instructors for guidance and support', 'Engaging and interactive learning experience'], 'pricing': {'Free trial': 'Yes', 'Subscription plans': [{'Plan': 'Basic', 'Price': '$9.99/month', 'Features': ['Access to all courses', 'Limited instructor support']}, {'Plan': 'Premium', 'Price': '$19.99/month', 'Features': ['Access to all courses', 'Unlimited instructor support', 'Priority support']}]}}}\n",
      "{\"Langsmith\": {\"description\": \"Langsmith is a language learning platform that offers courses in various languages to help individuals improve their language skills.\", \"features\": [\"Interactive lessons\", \"Personalized learning plans\", \"Native-speaking instructors\", \"Practice exercises and quizzes\", \"Progress tracking\", \"Community forums for language practice\"], \"benefits\": [\"Improved language skills\", \"Flexibility to learn at your own pace\", \"Access to native-speaking instructors for guidance and support\", \"Engaging and interactive learning experience\"], \"pricing\": {\"Free trial\": \"Yes\", \"Subscription plans\": [{\"Plan\": \"Basic\", \"Price\": \"$9.99/month\", \"Features\": [\"Access to all courses\", \"Limited instructor support\"]}, {\"Plan\": \"Premium\", \"Price\": \"$19.99/month\", \"Features\": [\"Access to all courses\", \"Unlimited instructor support\", \"Priority support\"]}]}}}\n",
      "{'description': 'Langsmith is a language learning platform that offers courses in various languages to help individuals improve their language skills.', 'features': ['Interactive lessons', 'Personalized learning plans', 'Native-speaking instructors', 'Practice exercises and quizzes', 'Progress tracking', 'Community forums for language practice'], 'benefits': ['Improved language skills', 'Flexibility to learn at your own pace', 'Access to native-speaking instructors for guidance and support', 'Engaging and interactive learning experience'], 'pricing': {'Free trial': 'Yes', 'Subscription plans': [{'Plan': 'Basic', 'Price': '$9.99/month', 'Features': ['Access to all courses', 'Limited instructor support']}, {'Plan': 'Premium', 'Price': '$19.99/month', 'Features': ['Access to all courses', 'Unlimited instructor support', 'Priority support']}]}}\n"
     ]
    },
    {
     "name": "stderr",
     "output_type": "stream",
     "text": [
      "Failed to multipart ingest runs: langsmith.utils.LangSmithError: Failed to POST https://api.smith.langchain.com/runs/multipart in LangSmith API. HTTPError('403 Client Error: Forbidden for url: https://api.smith.langchain.com/runs/multipart', '{\"error\":\"Forbidden\"}\\n')\n"
     ]
    }
   ],
   "source": [
    "chain=prompt|llm|json_output_parser\n",
    "\n",
    "response=chain.invoke({\"query\":\"Can you tell me about Langsmith?\"})\n",
    "print(response)\n",
    "\n",
    "import json\n",
    "raw_json = json.dumps(response)\n",
    "print(raw_json)\n",
    "\n",
    "parsed = json.loads(raw_json)\n",
    "answer = parsed[\"Langsmith\"]\n",
    "print(answer)"
   ]
  }
 ],
 "metadata": {
  "kernelspec": {
   "display_name": "base",
   "language": "python",
   "name": "python3"
  },
  "language_info": {
   "codemirror_mode": {
    "name": "ipython",
    "version": 3
   },
   "file_extension": ".py",
   "mimetype": "text/x-python",
   "name": "python",
   "nbconvert_exporter": "python",
   "pygments_lexer": "ipython3",
   "version": "3.12.7"
  }
 },
 "nbformat": 4,
 "nbformat_minor": 5
}
