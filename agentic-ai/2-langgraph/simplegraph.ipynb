{
 "cells": [
  {
   "cell_type": "markdown",
   "metadata": {},
   "source": [
    "### State\n",
    "First, define the State of the graph.\n",
    "\n",
    "The State schema serves as the input schema for all Nodes and Edges in the graph.\n",
    "\n",
    "Let's use the TypedDict class from python's typing module as our schema, which provides type hints for the keys."
   ]
  },
  {
   "cell_type": "code",
   "execution_count": 5,
   "metadata": {},
   "outputs": [],
   "source": [
    "from typing_extensions import TypedDict\n",
    "class State(TypedDict):\n",
    "    graph_state:str\n"
   ]
  },
  {
   "cell_type": "markdown",
   "metadata": {},
   "source": [
    "#### Nodes\n",
    "Nodes are just python functions.\n",
    "\n",
    "The first positional argument is the state, as defined above.\n",
    "\n",
    "Because the state is a TypedDict with schema as defined above, each node can access the key, graph_state, with state['graph_state'].\n",
    "\n",
    "Each node returns a new value of the state key graph_state.\n",
    "\n",
    "By default, the new value returned by each node will override the prior state value."
   ]
  },
  {
   "cell_type": "code",
   "execution_count": 6,
   "metadata": {},
   "outputs": [],
   "source": [
    "def first_node(state):\n",
    "    print(\"My First Node is called\")\n",
    "    return {\"graph_state\":state['graph_state']+\"I am playing\"}\n",
    "\n",
    "def second_node(state):\n",
    "    print(\"My Second Node is called\")\n",
    "    return {\"graph_state\":state['graph_state']+\" Cricket\"}\n",
    "\n",
    "\n",
    "def third_node(state):\n",
    "    print(\"My Third Node is called\")\n",
    "    return {\"graph_state\":state['graph_state']+\" Badminton\"}\n"
   ]
  },
  {
   "cell_type": "markdown",
   "metadata": {},
   "source": [
    "#### Edges\n",
    "Edges connect the nodes.\n",
    "\n",
    "Normal Edges are used if you want to always go from, for example, node_1 to node_2.\n",
    "\n",
    "Conditional Edges are used if you want to optionally route between nodes.\n",
    "\n",
    "Conditional edges are implemented as functions that return the next node to visit based upon some logic."
   ]
  },
  {
   "cell_type": "code",
   "execution_count": 7,
   "metadata": {},
   "outputs": [],
   "source": [
    "import random\n",
    "from typing import Literal\n",
    "\n",
    "def decide_play(state)->Literal['second_node','third_node']:\n",
    "    graph_state=state['graph_state']\n",
    "\n",
    "    if random.random()<0.5:\n",
    "        return \"second_node\"\n",
    "    \n",
    "    return \"third_node\"\n"
   ]
  },
  {
   "cell_type": "markdown",
   "metadata": {},
   "source": [
    "## Graph \n"
   ]
  },
  {
   "cell_type": "markdown",
   "metadata": {},
   "source": [
    "#### Graph Construction\n",
    "Now, we build the graph from our components defined above.\n",
    "\n",
    "The StateGraph class is the graph class that we can use.\n",
    "\n",
    "First, we initialize a StateGraph with the State class we defined above.\n",
    "\n",
    "Then, we add our nodes and edges.\n",
    "\n",
    "We use the START Node, a special node that sends user input to the graph, to indicate where to start our graph.\n",
    "\n",
    "The END Node is a special node that represents a terminal node.\n",
    "\n",
    "Finally, we compile our graph to perform a few basic checks on the graph structure.\n",
    "\n",
    "We can visualize the graph as a Mermaid diagram."
   ]
  },
  {
   "cell_type": "code",
   "execution_count": 8,
   "metadata": {},
   "outputs": [
    {
     "data": {
      "image/png": "[encoded data removed]",
      "text/plain": [
       "<IPython.core.display.Image object>"
      ]
     },
     "metadata": {},
     "output_type": "display_data"
    }
   ],
   "source": [
    "from IPython.display import Image, display\n",
    "from langgraph.graph import StateGraph, START, END\n",
    "\n",
    "## Build Graph\n",
    "builder=StateGraph(State)\n",
    "\n",
    "builder.add_node(\"first_node\",first_node)\n",
    "builder.add_node(\"second_node\",second_node)\n",
    "builder.add_node(\"third_node\",third_node)\n",
    "\n",
    "## Logic\n",
    "builder.add_edge(START,\"first_node\")\n",
    "builder.add_conditional_edges(\"first_node\",decide_play)\n",
    "builder.add_edge(\"second_node\",END)\n",
    "builder.add_edge(\"third_node\",END)\n",
    "\n",
    "## Add\n",
    "graph=builder.compile()\n",
    "\n",
    "## View\n",
    "display(Image(graph.get_graph().draw_mermaid_png()))\n"
   ]
  },
  {
   "cell_type": "markdown",
   "metadata": {},
   "source": [
    "### Graph Invocation\n",
    "The compiled graph implements the runnable protocol.\n",
    "\n",
    "This provides a standard way to execute LangChain components.\n",
    "\n",
    "invoke is one of the standard methods in this interface.\n",
    "\n",
    "The input is a dictionary {\"graph_state\": \"Hi, this is lance.\"}, which sets the initial value for our graph state dict.\n",
    "\n",
    "When invoke is called, the graph starts execution from the START node.\n",
    "\n",
    "It progresses through the defined nodes (node_1, node_2, node_3) in order.\n",
    "\n",
    "The conditional edge will traverse from node 1 to node 2 or 3 using a 50/50 decision rule.\n",
    "\n",
    "Each node function receives the current state and returns a new value, which overrides the graph state.\n",
    "\n",
    "The execution continues until it reaches the END node."
   ]
  },
  {
   "cell_type": "code",
   "execution_count": 9,
   "metadata": {},
   "outputs": [
    {
     "name": "stdout",
     "output_type": "stream",
     "text": [
      "My First Node is called\n",
      "My Third Node is called\n"
     ]
    },
    {
     "data": {
      "text/plain": [
       "{'graph_state': 'Hi,My name is Krish,I am playing Badminton'}"
      ]
     },
     "execution_count": 9,
     "metadata": {},
     "output_type": "execute_result"
    }
   ],
   "source": [
    "graph.invoke({\"graph_state\":\"Hi,My name is Krish,\"})"
   ]
  },
  {
   "cell_type": "markdown",
   "metadata": {},
   "source": [
    "### Basic Chatbot"
   ]
  },
  {
   "cell_type": "code",
   "execution_count": 10,
   "metadata": {},
   "outputs": [],
   "source": [
    "from typing import Annotated\n",
    "\n",
    "from typing_extensions import TypedDict\n",
    "\n",
    "from langgraph.graph import StateGraph, START, END\n",
    "from langgraph.graph.message import add_messages"
   ]
  },
  {
   "cell_type": "code",
   "execution_count": 11,
   "metadata": {},
   "outputs": [],
   "source": [
    "class State(TypedDict):\n",
    "    messages:Annotated[list,add_messages]\n"
   ]
  },
  {
   "cell_type": "code",
   "execution_count": 12,
   "metadata": {},
   "outputs": [],
   "source": [
    "graph_builder=StateGraph(State)"
   ]
  },
  {
   "cell_type": "code",
   "execution_count": 13,
   "metadata": {},
   "outputs": [],
   "source": [
    "import os\n",
    "from dotenv import load_dotenv\n",
    "\n",
    "load_dotenv()\n",
    "os.environ[\"GROQ_API_KEY\"]=os.getenv(\"GROQ_API_KEY\")"
   ]
  },
  {
   "cell_type": "code",
   "execution_count": 14,
   "metadata": {},
   "outputs": [
    {
     "data": {
      "text/plain": [
       "ChatGroq(client=<groq.resources.chat.completions.Completions object at 0x0000019C581126C0>, async_client=<groq.resources.chat.completions.AsyncCompletions object at 0x0000019C58113800>, model_name='gemma2-9b-it', model_kwargs={}, groq_api_key=SecretStr('**********'))"
      ]
     },
     "execution_count": 14,
     "metadata": {},
     "output_type": "execute_result"
    }
   ],
   "source": [
    "from langchain_groq import ChatGroq\n",
    "llm=ChatGroq(model=\"gemma2-9b-it\")\n",
    "llm"
   ]
  },
  {
   "cell_type": "code",
   "execution_count": 15,
   "metadata": {},
   "outputs": [],
   "source": [
    "def chatbot(state:State):\n",
    "    return {\"messages\":[llm.invoke(state[\"messages\"])]}"
   ]
  },
  {
   "cell_type": "code",
   "execution_count": 16,
   "metadata": {},
   "outputs": [],
   "source": [
    "graph_builder.add_node(\"chatbot\",chatbot)\n",
    "graph_builder.add_edge(START, \"chatbot\")\n",
    "graph_builder.add_edge(\"chatbot\", END)\n",
    "graph = graph_builder.compile()\n"
   ]
  },
  {
   "cell_type": "code",
   "execution_count": 17,
   "metadata": {},
   "outputs": [
    {
     "data": {
      "image/png": "[encoded data removed]",
      "text/plain": [
       "<IPython.core.display.Image object>"
      ]
     },
     "metadata": {},
     "output_type": "display_data"
    }
   ],
   "source": [
    "from IPython.display import Image, display\n",
    "display(Image(graph.get_graph().draw_mermaid_png()))"
   ]
  },
  {
   "cell_type": "code",
   "execution_count": 18,
   "metadata": {},
   "outputs": [],
   "source": [
    "def stream_graph_updates(user_input: str):\n",
    "    for event in graph.stream({\"messages\": [{\"role\": \"user\", \"content\": user_input}]}):\n",
    "        for value in event.values():\n",
    "            print(\"Assistant:\", value[\"messages\"][-1].content)"
   ]
  },
  {
   "cell_type": "code",
   "execution_count": null,
   "metadata": {},
   "outputs": [
    {
     "name": "stdout",
     "output_type": "stream",
     "text": [
      "Assistant: Please provide me with a question or prompt so I can assist you! 😊 \n",
      "\n",
      "For example, you could ask me:\n",
      "\n",
      "* **To write something:** \"Write a short story about a robot who learns to feel emotions.\"\n",
      "* **To answer a question:** \"What is the capital of France?\"\n",
      "* **To translate something:** \"Translate 'Hello, how are you?' into Spanish.\"\n",
      "* **To summarize something:** \"Summarize the plot of the movie 'Inception'.\"\n",
      "* **To generate ideas:** \"Give me some ideas for a birthday party theme.\"\n",
      "\n",
      "\n",
      "I'm ready for anything! ✨ \n",
      "\n",
      "\n",
      "Assistant: Hello! 👋  How can I help you today? 😊\n",
      "\n",
      "Assistant: I am Gemma, an open-weights AI assistant.\n",
      "\n",
      "Assistant: As an AI, I don't have personal views or financial advice capabilities. I can't tell you whether IBIT ETF is a good investment for you. \n",
      "\n",
      "However, I can provide you with information to help you make your own informed decision:\n",
      "\n",
      "**IBIT ETF (iShares MSCI Brazil ETF)**\n",
      "\n",
      "* **What it tracks:** The IBIT ETF tracks the MSCI Brazil IMI 25/50 Index, which represents large and mid-cap Brazilian equities. \n",
      "* **Pros:**\n",
      "    * **Diversification:** Offers exposure to a diversified basket of Brazilian companies.\n",
      "    * **Low expense ratio:** Relatively low fees compared to some other ETFs.\n",
      "    * **Liquidity:** Generally liquid, meaning it's easy to buy and sell shares.\n",
      "* **Cons:**\n",
      "    * **Country-specific risk:**  Performance is heavily tied to the Brazilian economy, which can be volatile.\n",
      "    * **Currency risk:**  Investors are exposed to fluctuations in the Brazilian real against their own currency.\n",
      "    * **Political and regulatory risk:** Brazil's political landscape can be unpredictable, which may impact the market.\n",
      "\n",
      "**Before investing in IBIT ETF or any other ETF, consider:**\n",
      "\n",
      "* **Your investment goals:** What are you hoping to achieve with your investment?\n",
      "* **Your risk tolerance:** How much risk are you comfortable taking on?\n",
      "* **Your investment horizon:** How long do you plan to hold the investment?\n",
      "* **Your overall portfolio:** How does IBIT ETF fit into your existing portfolio?\n",
      "\n",
      "**Do your research:**\n",
      "\n",
      "* Read the ETF's prospectus carefully.\n",
      "* Understand the risks involved.\n",
      "* Consider consulting with a financial advisor.\n",
      "\n",
      "\n",
      "Remember, past performance is not indicative of future results. Investing involves risk, and you could lose money.\n",
      "\n",
      "Assistant: You're likely asking about the **Invesco Bitcoin ETF (BITO)**. \n",
      "\n",
      "There isn't currently a direct, physically-backed Bitcoin ETF from iShares in the US market.  \n",
      "\n",
      "Here's what you need to know about BITO and Bitcoin ETFs:\n",
      "\n",
      "* **BITO is a futures-based ETF:** This means it tracks the price of Bitcoin futures contracts, not Bitcoin directly. Futures contracts are agreements to buy or sell Bitcoin at a specific price on a future date. \n",
      "* **Futures-based ETFs vs. Spot ETFs:** Spot ETFs would directly hold Bitcoin, offering more direct exposure. However, regulatory hurdles have prevented the launch of a spot Bitcoin ETF in the US so far.  \n",
      "* **Pros and Cons of Futures-Based ETFs:**\n",
      "\n",
      "    * **Pros:** They allow investors to gain exposure to Bitcoin without directly owning it, which can be more convenient and less risky for some.\n",
      "    * **Cons:** Futures contracts have rolling costs and may not perfectly track the spot price of Bitcoin. This can lead to performance differences compared to a spot ETF.\n",
      "\n",
      "**Important Considerations:**\n",
      "\n",
      "* **Regulation:** The SEC has been cautious about approving Bitcoin ETFs due to concerns about market manipulation and investor protection.\n",
      "* **Volatility:** Bitcoin is a highly volatile asset, and ETFs tracking it will also be volatile.\n",
      "* **Investment Goals:** Determine if an ETF aligns with your investment goals and risk tolerance. \n",
      "\n",
      "\n",
      "If you're interested in investing in Bitcoin, research both futures-based ETFs like BITO and other options carefully before making a decision. Consult with a financial advisor to discuss your individual circumstances and investment strategy.\n",
      "\n",
      "Assistant: Please provide me with a question or a topic so I can help you! I can do many things, such as:\n",
      "\n",
      "* **Answer your questions:** I have access to a vast amount of information and can answer a wide range of questions.\n",
      "* **Generate creative content:** I can write stories, poems, articles, and even code.\n",
      "* **Summarize text:** I can condense large amounts of text into shorter, more manageable summaries.\n",
      "* **Translate languages:** I can translate text between many different languages.\n",
      "* **And much more!**\n",
      "\n",
      "\n",
      "What can I do for you today? 😊\n",
      "\n",
      "\n"
     ]
    }
   ],
   "source": [
    "while True:\n",
    "    try:\n",
    "        user_input = input(\"User: \")\n",
    "        if user_input.lower() in [\"quit\", \"exit\", \"q\"]:\n",
    "            print(\"Goodbye!\")\n",
    "            break\n",
    "\n",
    "        stream_graph_updates(user_input)\n",
    "    except:\n",
    "        # fallback if input() is not available\n",
    "        user_input = \"What do you know about LangGraph?\"\n",
    "        print(\"User: \" + user_input)\n",
    "        stream_graph_updates(user_input)\n",
    "        break"
   ]
  },
  {
   "cell_type": "code",
   "execution_count": null,
   "metadata": {},
   "outputs": [],
   "source": []
  }
 ],
 "metadata": {
  "kernelspec": {
   "display_name": "base",
   "language": "python",
   "name": "python3"
  },
  "language_info": {
   "codemirror_mode": {
    "name": "ipython",
    "version": 3
   },
   "file_extension": ".py",
   "mimetype": "text/x-python",
   "name": "python",
   "nbconvert_exporter": "python",
   "pygments_lexer": "ipython3",
   "version": "3.12.7"
  }
 },
 "nbformat": 4,
 "nbformat_minor": 2
}
